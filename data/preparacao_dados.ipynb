{
 "cells": [
  {
   "cell_type": "code",
   "execution_count": 13,
   "id": "f8562e5f",
   "metadata": {},
   "outputs": [],
   "source": [
    "import pandas as pd\n",
    "import numpy as np"
   ]
  },
  {
   "cell_type": "code",
   "execution_count": 29,
   "id": "9031e12b",
   "metadata": {},
   "outputs": [],
   "source": [
    "df = pd.read_csv(\"pima_indians_diabetes_processed.csv\")"
   ]
  },
  {
   "cell_type": "code",
   "execution_count": 30,
   "id": "d50d9454",
   "metadata": {},
   "outputs": [
    {
     "name": "stdout",
     "output_type": "stream",
     "text": [
      "Pregnancies                 int64\n",
      "Glucose                     int64\n",
      "BloodPressure               int64\n",
      "SkinThickness               int64\n",
      "Insulin                     int64\n",
      "BMI                         int64\n",
      "DiabetesPedigreeFunction    int64\n",
      "Age                         int64\n",
      "Outcome                     int64\n",
      "dtype: object\n"
     ]
    }
   ],
   "source": [
    "print(df.dtypes)"
   ]
  },
  {
   "cell_type": "code",
   "execution_count": 25,
   "id": "267ae556",
   "metadata": {},
   "outputs": [],
   "source": [
    "# Em vez de converter para inteiro, considere:\n",
    "df['DiabetesPedigreeFunction'] = df['DiabetesPedigreeFunction'].round(3)  # Mantém 3 casas decimais\n",
    "\n",
    "df[['BMI', 'DiabetesPedigreeFunction']] = (\n",
    "    df[['BMI', 'DiabetesPedigreeFunction']]\n",
    "    .round()\n",
    "    .astype('int64')\n",
    ")"
   ]
  },
  {
   "cell_type": "code",
   "execution_count": 27,
   "id": "179c4c25",
   "metadata": {},
   "outputs": [
    {
     "name": "stdout",
     "output_type": "stream",
     "text": [
      "\n",
      "Arquivo salvo com sucesso em: pima_indians_diabetes_processed.csv\n",
      "\n",
      "Visualização das primeiras linhas:\n",
      "   Pregnancies  Glucose  BloodPressure  SkinThickness  Insulin  BMI  \\\n",
      "0            6      148             72             35        0   34   \n",
      "1            1       85             66             29        0   27   \n",
      "2            8      183             64              0        0   23   \n",
      "3            1       89             66             23       94   28   \n",
      "4            0      137             40             35      168   43   \n",
      "\n",
      "   DiabetesPedigreeFunction  Age  Outcome  \n",
      "0                         1   50        1  \n",
      "1                         0   31        0  \n",
      "2                         1   32        1  \n",
      "3                         0   21        0  \n",
      "4                         2   33        1  \n"
     ]
    }
   ],
   "source": [
    "output_path = \"pima_indians_diabetes_processed.csv\"\n",
    "df.to_csv(output_path, index=False)\n",
    "\n",
    "print(f\"\\nArquivo salvo com sucesso em: {output_path}\")\n",
    "print(\"\\nVisualização das primeiras linhas:\")\n",
    "print(df.head())"
   ]
  }
 ],
 "metadata": {
  "kernelspec": {
   "display_name": "Python 3",
   "language": "python",
   "name": "python3"
  },
  "language_info": {
   "codemirror_mode": {
    "name": "ipython",
    "version": 3
   },
   "file_extension": ".py",
   "mimetype": "text/x-python",
   "name": "python",
   "nbconvert_exporter": "python",
   "pygments_lexer": "ipython3",
   "version": "3.13.0"
  }
 },
 "nbformat": 4,
 "nbformat_minor": 5
}
